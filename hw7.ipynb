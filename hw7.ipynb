{
 "cells": [
  {
   "cell_type": "markdown",
   "metadata": {},
   "source": [
    "### Dataset Reformating"
   ]
  },
  {
   "cell_type": "code",
   "execution_count": 2,
   "metadata": {},
   "outputs": [],
   "source": [
    "import numpy as np\n",
    "import pandas as pd\n",
    "import csv\n",
    "from collections import Counter\n",
    "import matplotlib.pyplot as plt"
   ]
  },
  {
   "cell_type": "code",
   "execution_count": 3,
   "metadata": {},
   "outputs": [
    {
     "name": "stdout",
     "output_type": "stream",
     "text": [
      "Counter({'D': 5785, 'R': 5758})\n"
     ]
    },
    {
     "data": {
      "text/plain": [
       "Text(0.5,1,'Number of democratic and republican tweets')"
      ]
     },
     "execution_count": 3,
     "metadata": {},
     "output_type": "execute_result"
    },
    {
     "data": {
      "image/png": "[encoded data removed]",
      "text/plain": [
       "<matplotlib.figure.Figure at 0x26d04593cc0>"
      ]
     },
     "metadata": {},
     "output_type": "display_data"
    }
   ],
   "source": [
    "dataset = pd.read_csv('data.csv', sep = '^', quoting=csv.QUOTE_NONE, encoding='utf-8', header=0)\n",
    "count=Counter(line[0] for line in dataset['party'])\n",
    "print(count)\n",
    "plt.bar(count.keys(),count.values())\n",
    "plt.title('Number of democratic and republican tweets')"
   ]
  },
  {
   "cell_type": "code",
   "execution_count": 5,
   "metadata": {},
   "outputs": [
    {
     "name": "stdout",
     "output_type": "stream",
     "text": [
      "<class 'pandas.core.frame.DataFrame'>\n",
      "RangeIndex: 11543 entries, 0 to 11542\n",
      "Data columns (total 2 columns):\n",
      "party      11543 non-null object\n",
      "content    11543 non-null object\n",
      "dtypes: object(2)\n",
      "memory usage: 180.4+ KB\n"
     ]
    }
   ],
   "source": [
    "dataset.info()"
   ]
  },
  {
   "cell_type": "markdown",
   "metadata": {},
   "source": [
    "### Data Cleaning"
   ]
  },
  {
   "cell_type": "code",
   "execution_count": 6,
   "metadata": {},
   "outputs": [],
   "source": [
    "import re\n",
    "import nltk\n",
    "from nltk.corpus import stopwords\n",
    "from nltk.stem.porter import PorterStemmer"
   ]
  },
  {
   "cell_type": "code",
   "execution_count": 7,
   "metadata": {},
   "outputs": [],
   "source": [
    "corpus = []\n",
    "for i in range(0, 11543):\n",
    "    review = re.sub('[^a-zA-Z]', ' ', dataset['content'][i])\n",
    "    review = review.lower()\n",
    "    review = review.split()\n",
    "    ps = PorterStemmer()\n",
    "    review = [ps.stem(word) for word in review if not word in set(stopwords.words('english'))]\n",
    "    review = ' '.join(review)\n",
    "    corpus.append(review)"
   ]
  },
  {
   "cell_type": "markdown",
   "metadata": {},
   "source": [
    "### Feature Extraction"
   ]
  },
  {
   "cell_type": "code",
   "execution_count": 8,
   "metadata": {
    "scrolled": true
   },
   "outputs": [],
   "source": [
    "from sklearn.feature_extraction.text import CountVectorizer\n",
    "cv = CountVectorizer(max_features = 3000)\n",
    "X = cv.fit_transform(corpus).toarray()\n",
    "y = dataset['party'].values"
   ]
  },
  {
   "cell_type": "markdown",
   "metadata": {},
   "source": [
    "### Data splitting method 1 choose 4th every 5 sentences"
   ]
  },
  {
   "cell_type": "code",
   "execution_count": 9,
   "metadata": {},
   "outputs": [],
   "source": [
    "index = []\n",
    "for ii in range(0, 11543):\n",
    "    index.append(ii)\n",
    "rIndex = index[4::5]\n",
    "\n",
    "X_test = X[4::5]\n",
    "X_train = X \n",
    "X_train = np.delete(X_train, rIndex, axis = 0)\n",
    "y_test = y[4::5]\n",
    "y_train = y \n",
    "y_train = np.delete(y_train, rIndex)"
   ]
  },
  {
   "cell_type": "code",
   "execution_count": 11,
   "metadata": {},
   "outputs": [
    {
     "name": "stdout",
     "output_type": "stream",
     "text": [
      "2308 9235 2308 9235\n"
     ]
    }
   ],
   "source": [
    "print(len(X_test), len(X_train), len(y_test), len(y_train))\n",
    "y_test=y_test.reshape((2308,1))"
   ]
  },
  {
   "cell_type": "markdown",
   "metadata": {},
   "source": [
    "### Classification and Evaluation\n",
    "### 1. KNN"
   ]
  },
  {
   "cell_type": "code",
   "execution_count": 17,
   "metadata": {},
   "outputs": [
    {
     "name": "stdout",
     "output_type": "stream",
     "text": [
      "[[848 309]\n",
      " [562 589]]\n",
      "                  precision    recall  f1-score   support\n",
      "\n",
      "Democratic Party       0.68      0.82      0.74      4628\n",
      "Republican Party       0.77      0.62      0.69      4607\n",
      "\n",
      "     avg / total       0.73      0.72      0.72      9235\n",
      "\n",
      "                  precision    recall  f1-score   support\n",
      "\n",
      "Democratic Party       0.60      0.73      0.66      1157\n",
      "Republican Party       0.66      0.51      0.57      1151\n",
      "\n",
      "     avg / total       0.63      0.62      0.62      2308\n",
      "\n"
     ]
    },
    {
     "data": {
      "image/png": "[encoded data removed]",
      "text/plain": [
       "<matplotlib.figure.Figure at 0x26d06f08128>"
      ]
     },
     "metadata": {},
     "output_type": "display_data"
    }
   ],
   "source": [
    "from sklearn.neighbors import KNeighborsClassifier\n",
    "knn = KNeighborsClassifier(n_neighbors=10)\n",
    "knn.fit(X_train,y_train)\n",
    "y0_pred=knn.predict(X_test)\n",
    "y0_predict=knn.predict(X_train)\n",
    "print(confusion_matrix(y_test, y0_pred))\n",
    "print(classification_report(y_train,y0_predict))\n",
    "print(classification_report(y_test,y0_pred))\n",
    "\n",
    "knnscore=knn.fit(X_train, y_train).predict_proba(X_test) \n",
    "fpr,tpr,threshold= roc_curve(ytest,knnscore[:,1])\n",
    "roc_auc=auc(fpr,tpr)\n",
    "plt.title('ROC of KNN classifier')\n",
    "plt.plot(fpr, tpr,'b',label='AUC=%0.2f'%roc_auc)\n",
    "plt.legend(loc='lower right')\n",
    "plt.plot([0, 1],[0, 1],'r--')\n",
    "plt.xlim([0, 1])\n",
    "plt.ylim([0, 1])\n",
    "plt.ylabel('True Positive Rate')\n",
    "plt.xlabel('False Positive Rate')\n",
    "plt.show()"
   ]
  },
  {
   "cell_type": "markdown",
   "metadata": {},
   "source": [
    "### 2. Random Forest"
   ]
  },
  {
   "cell_type": "code",
   "execution_count": 12,
   "metadata": {},
   "outputs": [],
   "source": [
    "from sklearn.metrics import confusion_matrix,classification_report\n",
    "from sklearn.metrics import roc_curve, auc"
   ]
  },
  {
   "cell_type": "code",
   "execution_count": 13,
   "metadata": {},
   "outputs": [
    {
     "name": "stdout",
     "output_type": "stream",
     "text": [
      "(2308, 1)\n",
      "[[895 262]\n",
      " [388 763]]\n",
      "                  precision    recall  f1-score   support\n",
      "\n",
      "Democratic Party       0.98      0.99      0.99      4628\n",
      "Republican Party       0.99      0.98      0.99      4607\n",
      "\n",
      "     avg / total       0.99      0.99      0.99      9235\n",
      "\n",
      "                  precision    recall  f1-score   support\n",
      "\n",
      "Democratic Party       0.70      0.77      0.73      1157\n",
      "Republican Party       0.74      0.66      0.70      1151\n",
      "\n",
      "     avg / total       0.72      0.72      0.72      2308\n",
      "\n"
     ]
    },
    {
     "data": {
      "image/png": "[encoded data removed]",
      "text/plain": [
       "<matplotlib.figure.Figure at 0x26d06d344e0>"
      ]
     },
     "metadata": {},
     "output_type": "display_data"
    }
   ],
   "source": [
    "from sklearn.ensemble import RandomForestClassifier\n",
    "rf_classifier = RandomForestClassifier(n_estimators = 10, criterion = 'entropy', random_state = 0)\n",
    "rf_classifier.fit(X_train, y_train)\n",
    "y_predict=rf_classifier.predict(X_train)\n",
    "y_pred_rf = rf_classifier.predict(X_test)\n",
    "print(y_test.shape)\n",
    "print(confusion_matrix(y_test, y_pred_rf))\n",
    "print(classification_report(y_train,y_predict))\n",
    "print(classification_report(y_test, y_pred_rf))\n",
    "\n",
    "ytest,ypredrf=np.zeros((2308,1)),np.zeros((2308,1))\n",
    "ytest[y_test=='Democratic Party']=0\n",
    "ytest[y_test=='Republican Party']=1\n",
    "rfscore=rf_classifier.fit(X_train, y_train).predict_proba(X_test) \n",
    "fpr,tpr,threshold= roc_curve(ytest,rfscore[:,1])\n",
    "roc_auc=auc(fpr,tpr)\n",
    "plt.title('ROC of Random Forest classifier')\n",
    "plt.plot(fpr, tpr,'b',label='AUC=%0.2f'%roc_auc)\n",
    "plt.legend(loc='lower right')\n",
    "plt.plot([0, 1],[0, 1],'r--')\n",
    "plt.xlim([0, 1])\n",
    "plt.ylim([0, 1])\n",
    "plt.ylabel('True Positive Rate')\n",
    "plt.xlabel('False Positive Rate')\n",
    "plt.show()"
   ]
  },
  {
   "cell_type": "markdown",
   "metadata": {},
   "source": [
    "### 3. Naive Bayes"
   ]
  },
  {
   "cell_type": "code",
   "execution_count": 14,
   "metadata": {},
   "outputs": [
    {
     "name": "stdout",
     "output_type": "stream",
     "text": [
      "[[733 424]\n",
      " [208 943]]\n",
      "                  precision    recall  f1-score   support\n",
      "\n",
      "Democratic Party       0.86      0.71      0.78      4628\n",
      "Republican Party       0.75      0.89      0.81      4607\n",
      "\n",
      "     avg / total       0.81      0.80      0.79      9235\n",
      "\n",
      "                  precision    recall  f1-score   support\n",
      "\n",
      "Democratic Party       0.78      0.63      0.70      1157\n",
      "Republican Party       0.69      0.82      0.75      1151\n",
      "\n",
      "     avg / total       0.73      0.73      0.72      2308\n",
      "\n"
     ]
    },
    {
     "data": {
      "image/png": "[encoded data removed]",
      "text/plain": [
       "<matplotlib.figure.Figure at 0x26d06db4358>"
      ]
     },
     "metadata": {},
     "output_type": "display_data"
    }
   ],
   "source": [
    "from sklearn.naive_bayes import GaussianNB\n",
    "nb_classifier = GaussianNB()\n",
    "nb_classifier.fit(X_train, y_train)\n",
    "y_predict=nb_classifier.predict(X_train)\n",
    "y_pred_nb = nb_classifier.predict(X_test)\n",
    "print(confusion_matrix(y_test, y_pred_nb))\n",
    "print(classification_report(y_train,y_predict))\n",
    "print(classification_report(y_test, y_pred_nb))\n",
    "\n",
    "nbscore=nb_classifier.fit(X_train, y_train).predict_proba(X_test) \n",
    "fpr,tpr,threshold= roc_curve(ytest,nbscore[:,1])\n",
    "roc_auc=auc(fpr,tpr)\n",
    "plt.title('ROC of Naive Bayes classifier')\n",
    "plt.plot(fpr, tpr,'b',label='AUC=%0.2f'%roc_auc)\n",
    "plt.legend(loc='lower right')\n",
    "plt.plot([0, 1],[0, 1],'r--')\n",
    "plt.xlim([0, 1])\n",
    "plt.ylim([0, 1])\n",
    "plt.ylabel('True Positive Rate')\n",
    "plt.xlabel('False Positive Rate')\n",
    "plt.show()"
   ]
  },
  {
   "cell_type": "markdown",
   "metadata": {},
   "source": [
    "### 4. MLP"
   ]
  },
  {
   "cell_type": "code",
   "execution_count": 16,
   "metadata": {
    "scrolled": false
   },
   "outputs": [
    {
     "name": "stdout",
     "output_type": "stream",
     "text": [
      "Iteration 1, loss = 0.61081538\n",
      "Iteration 2, loss = 0.44165349\n",
      "Iteration 3, loss = 0.35092986\n",
      "Iteration 4, loss = 0.27988417\n",
      "Iteration 5, loss = 0.23580446\n",
      "Iteration 6, loss = 0.20590503\n",
      "Iteration 7, loss = 0.18637690\n",
      "Iteration 8, loss = 0.17291709\n",
      "Iteration 9, loss = 0.16300112\n",
      "Iteration 10, loss = 0.15475218\n",
      "Iteration 11, loss = 0.14716036\n",
      "Iteration 12, loss = 0.14135029\n",
      "Iteration 13, loss = 0.13587880\n",
      "Iteration 14, loss = 0.13092958\n",
      "Iteration 15, loss = 0.12642970\n",
      "Iteration 16, loss = 0.12260461\n",
      "Iteration 17, loss = 0.11863279\n",
      "Iteration 18, loss = 0.11550754\n",
      "Iteration 19, loss = 0.11231566\n",
      "Iteration 20, loss = 0.10911101\n",
      "Iteration 21, loss = 0.10632419\n",
      "Iteration 22, loss = 0.10397430\n",
      "Iteration 23, loss = 0.10104512\n",
      "Iteration 24, loss = 0.09892068\n",
      "Iteration 25, loss = 0.09668501\n",
      "Iteration 26, loss = 0.09495646\n",
      "Iteration 27, loss = 0.09260270\n",
      "Iteration 28, loss = 0.09048522\n",
      "Iteration 29, loss = 0.08885695\n",
      "Iteration 30, loss = 0.08752782\n",
      "Iteration 31, loss = 0.08581012\n",
      "Iteration 32, loss = 0.08419157\n",
      "Iteration 33, loss = 0.08260544\n",
      "Iteration 34, loss = 0.08147604\n",
      "Iteration 35, loss = 0.07974354\n",
      "Iteration 36, loss = 0.07837613\n",
      "Iteration 37, loss = 0.07706523\n",
      "Iteration 38, loss = 0.07552679\n",
      "Iteration 39, loss = 0.07464167\n",
      "Iteration 40, loss = 0.07337906\n",
      "Iteration 41, loss = 0.07228029\n",
      "Iteration 42, loss = 0.07130539\n",
      "Iteration 43, loss = 0.07092499\n",
      "Iteration 44, loss = 0.06950265\n",
      "Iteration 45, loss = 0.06885074\n",
      "Iteration 46, loss = 0.06807945\n",
      "Iteration 47, loss = 0.06712827\n",
      "Iteration 48, loss = 0.06609994\n",
      "Iteration 49, loss = 0.06663085\n",
      "Iteration 50, loss = 0.06650551\n",
      "Iteration 51, loss = 0.07020578\n",
      "Training loss did not improve more than tol=0.000100 for two consecutive epochs. Stopping.\n",
      "[[900 257]\n",
      " [312 839]]\n",
      "                  precision    recall  f1-score   support\n",
      "\n",
      "Democratic Party       0.74      0.78      0.76      1157\n",
      "Republican Party       0.77      0.73      0.75      1151\n",
      "\n",
      "     avg / total       0.75      0.75      0.75      2308\n",
      "\n"
     ]
    }
   ],
   "source": [
    "from sklearn.neural_network import MLPClassifier\n",
    "nn_classifier = MLPClassifier(hidden_layer_sizes = (600,2), activation='relu', solver='adam', verbose=True, learning_rate = 'constant', max_iter=500)\n",
    "nn_classifier.fit(X_train, y_train)\n",
    "y_pred_nn = nn_classifier.predict(X_test)\n",
    "\n",
    "print(confusion_matrix(y_test, y_pred_nn))\n",
    "print(classification_report(y_test, y_pred_nn))"
   ]
  },
  {
   "cell_type": "code",
   "execution_count": 274,
   "metadata": {},
   "outputs": [
    {
     "name": "stdout",
     "output_type": "stream",
     "text": [
      "Iteration 1, loss = 0.63742391\n",
      "Iteration 2, loss = 0.45491955\n",
      "Iteration 3, loss = 0.35932188\n",
      "Iteration 4, loss = 0.28372922\n",
      "Iteration 5, loss = 0.22538968\n",
      "Iteration 6, loss = 0.18576246\n",
      "Iteration 7, loss = 0.15919112\n",
      "Iteration 8, loss = 0.14167920\n",
      "Iteration 9, loss = 0.13003574\n",
      "Iteration 10, loss = 0.12021017\n",
      "Iteration 11, loss = 0.11365309\n",
      "Iteration 12, loss = 0.10833977\n",
      "Iteration 13, loss = 0.10285598\n",
      "Iteration 14, loss = 0.09846808\n",
      "Iteration 15, loss = 0.09496061\n",
      "Iteration 16, loss = 0.09121353\n",
      "Iteration 17, loss = 0.08788447\n",
      "Iteration 18, loss = 0.08505357\n",
      "Iteration 19, loss = 0.08221177\n",
      "Iteration 20, loss = 0.08019642\n",
      "Iteration 21, loss = 0.07776478\n",
      "Iteration 22, loss = 0.07549999\n",
      "Iteration 23, loss = 0.07342036\n",
      "Iteration 24, loss = 0.07208236\n",
      "Iteration 25, loss = 0.06965199\n",
      "Iteration 26, loss = 0.06802942\n",
      "Iteration 27, loss = 0.06630608\n",
      "Iteration 28, loss = 0.06478833\n",
      "Iteration 29, loss = 0.06296478\n",
      "Iteration 30, loss = 0.06296475\n",
      "Iteration 31, loss = 0.06081382\n",
      "Iteration 32, loss = 0.05940313\n",
      "Iteration 33, loss = 0.05791423\n",
      "Iteration 34, loss = 0.05696830\n",
      "Iteration 35, loss = 0.05567536\n",
      "Iteration 36, loss = 0.05497731\n",
      "Iteration 37, loss = 0.05371806\n",
      "Iteration 38, loss = 0.05274884\n",
      "Iteration 39, loss = 0.05240976\n",
      "Iteration 40, loss = 0.05092513\n",
      "Iteration 41, loss = 0.05015248\n",
      "Iteration 42, loss = 0.04927402\n",
      "Iteration 43, loss = 0.04873062\n",
      "Iteration 44, loss = 0.04811104\n",
      "Iteration 45, loss = 0.04728002\n",
      "Iteration 46, loss = 0.04667055\n",
      "Iteration 47, loss = 0.04590289\n",
      "Iteration 48, loss = 0.04522962\n",
      "Iteration 49, loss = 0.04437794\n",
      "Iteration 50, loss = 0.04407117\n",
      "Iteration 51, loss = 0.04350881\n",
      "Iteration 52, loss = 0.04306549\n",
      "Iteration 53, loss = 0.04232607\n",
      "Iteration 54, loss = 0.04169827\n",
      "Iteration 55, loss = 0.04125359\n",
      "Iteration 56, loss = 0.04096961\n",
      "Iteration 57, loss = 0.04036741\n",
      "Iteration 58, loss = 0.03973919\n",
      "Iteration 59, loss = 0.04127099\n",
      "Iteration 60, loss = 0.04778947\n",
      "Iteration 61, loss = 0.05960079\n",
      "Training loss did not improve more than tol=0.000100 for two consecutive epochs. Stopping.\n"
     ]
    },
    {
     "data": {
      "image/png": "[encoded data removed]",
      "text/plain": [
       "<matplotlib.figure.Figure at 0x27704a0bb70>"
      ]
     },
     "metadata": {},
     "output_type": "display_data"
    }
   ],
   "source": [
    "nnscore=nn_classifier.fit(X_train, y_train).predict_proba(X_test) \n",
    "fpr,tpr,threshold= roc_curve(ytest,nnscore[:,1])\n",
    "roc_auc=auc(fpr,tpr)\n",
    "plt.title('ROC of Neural Network classifier')\n",
    "plt.plot(fpr, tpr,'b',label='AUC=%0.2f'%roc_auc)\n",
    "plt.legend(loc='lower right')\n",
    "plt.plot([0, 1],[0, 1],'r--')\n",
    "plt.xlim([0, 1])\n",
    "plt.ylim([0, 1])\n",
    "plt.ylabel('True Positive Rate')\n",
    "plt.xlabel('False Positive Rate')\n",
    "plt.show()"
   ]
  },
  {
   "cell_type": "markdown",
   "metadata": {},
   "source": [
    "### 5. Pipeline in TF-IDF"
   ]
  },
  {
   "cell_type": "code",
   "execution_count": 18,
   "metadata": {},
   "outputs": [],
   "source": [
    "from sklearn.pipeline import Pipeline\n",
    "from sklearn.feature_extraction.text import TfidfTransformer\n",
    "pipeline = Pipeline([('vectorizer', CountVectorizer()),('tfidf', TfidfTransformer()), ('mlp', MLPClassifier(hidden_layer_sizes=(100,2)))])"
   ]
  },
  {
   "cell_type": "code",
   "execution_count": 19,
   "metadata": {},
   "outputs": [
    {
     "data": {
      "text/plain": [
       "0     House Passes National Defense Authorization Act:\n",
       "1    Today I called on Gov. Walker and AG Schimel t...\n",
       "2    is total devastation. Tonight at the EOC I was...\n",
       "3    As we fight to protect the health of neighbors...\n",
       "4    This is horrifying. Immigration authorities ar...\n",
       "Name: content, dtype: object"
      ]
     },
     "execution_count": 19,
     "metadata": {},
     "output_type": "execute_result"
    }
   ],
   "source": [
    "x1 = dataset['content'][:11544]\n",
    "y1 = dataset['party'][:11544]\n",
    "x1[:5]"
   ]
  },
  {
   "cell_type": "markdown",
   "metadata": {},
   "source": [
    "### Data splitting method 2 pick 20% randomly"
   ]
  },
  {
   "cell_type": "code",
   "execution_count": 20,
   "metadata": {},
   "outputs": [],
   "source": [
    "from sklearn.model_selection import train_test_split\n",
    "x1_train, x1_test, y1_train, y1_test = train_test_split(x1, y1, test_size=0.2, random_state=0)"
   ]
  },
  {
   "cell_type": "code",
   "execution_count": 21,
   "metadata": {},
   "outputs": [
    {
     "data": {
      "text/plain": [
       "Pipeline(memory=None,\n",
       "     steps=[('vectorizer', CountVectorizer(analyzer='word', binary=False, decode_error='strict',\n",
       "        dtype=<class 'numpy.int64'>, encoding='utf-8', input='content',\n",
       "        lowercase=True, max_df=1.0, max_features=None, min_df=1,\n",
       "        ngram_range=(1, 1), preprocessor=None, stop_words=None,\n",
       "       ...=True, solver='adam', tol=0.0001, validation_fraction=0.1,\n",
       "       verbose=False, warm_start=False))])"
      ]
     },
     "execution_count": 21,
     "metadata": {},
     "output_type": "execute_result"
    }
   ],
   "source": [
    "pipeline.fit(x1_train, y1_train)"
   ]
  },
  {
   "cell_type": "code",
   "execution_count": 22,
   "metadata": {},
   "outputs": [
    {
     "name": "stdout",
     "output_type": "stream",
     "text": [
      "                  precision    recall  f1-score   support\n",
      "\n",
      "Democratic Party       0.74      0.77      0.75      1124\n",
      "Republican Party       0.77      0.74      0.76      1185\n",
      "\n",
      "     avg / total       0.76      0.75      0.75      2309\n",
      "\n"
     ]
    }
   ],
   "source": [
    "predictions = pipeline.predict(x1_test)\n",
    "print(classification_report(y1_test, predictions))"
   ]
  },
  {
   "cell_type": "markdown",
   "metadata": {},
   "source": [
    "### 6. SVM"
   ]
  },
  {
   "cell_type": "code",
   "execution_count": 122,
   "metadata": {
    "scrolled": false
   },
   "outputs": [
    {
     "name": "stdout",
     "output_type": "stream",
     "text": [
      "# Tuning hyper-parameters for recall\n",
      "Best parameters set found on development set:\n",
      "{'C': 100, 'gamma': 0.001, 'kernel': 'rbf'}\n",
      "Grid scores on development set:\n",
      "0.686 (+/-0.019) for {'C': 1, 'gamma': 0.001, 'kernel': 'rbf'}\n",
      "0.500 (+/-0.000) for {'C': 1, 'gamma': 0.0001, 'kernel': 'rbf'}\n",
      "0.723 (+/-0.017) for {'C': 10, 'gamma': 0.001, 'kernel': 'rbf'}\n",
      "0.686 (+/-0.018) for {'C': 10, 'gamma': 0.0001, 'kernel': 'rbf'}\n",
      "0.733 (+/-0.021) for {'C': 100, 'gamma': 0.001, 'kernel': 'rbf'}\n",
      "0.724 (+/-0.017) for {'C': 100, 'gamma': 0.0001, 'kernel': 'rbf'}\n",
      "0.720 (+/-0.025) for {'C': 1000, 'gamma': 0.001, 'kernel': 'rbf'}\n",
      "0.731 (+/-0.022) for {'C': 1000, 'gamma': 0.0001, 'kernel': 'rbf'}\n",
      "Detailed classification report:\n",
      "The model is trained on the full development set.\n",
      "The scores are computed on the full evaluation set.\n",
      "                  precision    recall  f1-score   support\n",
      "\n",
      "Democratic Party       0.76      0.73      0.74      1157\n",
      "Republican Party       0.74      0.76      0.75      1151\n",
      "\n",
      "     avg / total       0.75      0.75      0.75      2308\n",
      "\n"
     ]
    }
   ],
   "source": [
    "from sklearn.svm import SVC\n",
    "from sklearn.model_selection import GridSearchCV\n",
    "tuned_parameters = [{'kernel': ['rbf'], 'gamma': [1e-3, 1e-4],'C': [1, 10, 100, 1000]}]\n",
    "score='recall'\n",
    "print(\"# Tuning hyper-parameters for %s\" % score)\n",
    "clf = GridSearchCV(SVC(), tuned_parameters, cv=5,\n",
    "                   scoring='%s_macro' % score)\n",
    "clf.fit(X_train, y_train)\n",
    "print(\"Best parameters set found on development set:\")\n",
    "print(clf.best_params_)\n",
    "print(\"Grid scores on development set:\")\n",
    "means = clf.cv_results_['mean_test_score']\n",
    "stds = clf.cv_results_['std_test_score']\n",
    "for mean, std, params in zip(means, stds, clf.cv_results_['params']):\n",
    "    print(\"%0.3f (+/-%0.03f) for %r\"\n",
    "          % (mean, std * 2, params))\n",
    "print(\"Detailed classification report:\")\n",
    "print(\"The model is trained on the full development set.\")\n",
    "print(\"The scores are computed on the full evaluation set.\")\n",
    "y_true, y_pred = y_test, clf.predict(X_test)\n",
    "print(classification_report(y_true, y_pred))"
   ]
  }
 ],
 "metadata": {
  "kernelspec": {
   "display_name": "Python 3",
   "language": "python",
   "name": "python3"
  },
  "language_info": {
   "codemirror_mode": {
    "name": "ipython",
    "version": 3
   },
   "file_extension": ".py",
   "mimetype": "text/x-python",
   "name": "python",
   "nbconvert_exporter": "python",
   "pygments_lexer": "ipython3",
   "version": "3.6.5"
  }
 },
 "nbformat": 4,
 "nbformat_minor": 2
}
